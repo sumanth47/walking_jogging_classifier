{
 "cells": [
  {
   "cell_type": "markdown",
   "metadata": {},
   "source": [
    "Importing required Libraries"
   ]
  },
  {
   "cell_type": "code",
   "execution_count": 236,
   "metadata": {},
   "outputs": [],
   "source": [
    "import numpy as np\n",
    "import cv2\n",
    "import os\n",
    "from tqdm import tqdm\n",
    "from sklearn import linear_model, datasets\n",
    "import pandas as pd\n",
    "import time"
   ]
  },
  {
   "cell_type": "markdown",
   "metadata": {},
   "source": [
    "Assigning paths"
   ]
  },
  {
   "cell_type": "code",
   "execution_count": 237,
   "metadata": {},
   "outputs": [],
   "source": [
    "JOG_DIR='C:/Users/Sumanth_47/Jupyter/sampleo/jog_walk/jogging'\n",
    "WALK_DIR='C:/Users/Sumanth_47/Jupyter/sampleo/jog_walk/walking'"
   ]
  },
  {
   "cell_type": "markdown",
   "metadata": {},
   "source": [
    "Function to create the training data set:\n",
    "    \n",
    "    1)Collect all the files in Jogging directory and caluclate 'parameter' for each of them and load them into a numpy array\n",
    "    \n",
    "    2)Collect all the files in Walking directory and caluclate 'parameter' for each of them and append them to the numpyarray\n",
    "    \n",
    "    3)Return the final Numpy array\n",
    "    \n",
    "!! Run find_para() function before running this cell"
   ]
  },
  {
   "cell_type": "code",
   "execution_count": 238,
   "metadata": {},
   "outputs": [],
   "source": [
    "def create_train_data():\n",
    "    training_data =[]\n",
    "    for vid in tqdm(os.listdir(JOG_DIR)):\n",
    "        _type='jog'\n",
    "        path1='jogging/'+vid\n",
    "        frame,time =find_para(path1)\n",
    "        \n",
    "        training_data.append([vid,_type,frame,time])\n",
    "        \n",
    "    \n",
    "    for vid in tqdm(os.listdir(WALK_DIR)):\n",
    "        _type='walk'\n",
    "        path2='walking/'+vid\n",
    "        frame,time=find_para(path2)\n",
    "        \n",
    "        training_data.append([vid,_type,frame,time])\n",
    "        \n",
    "    \n",
    "    \n",
    "    \n",
    "    return training_data"
   ]
  },
  {
   "cell_type": "markdown",
   "metadata": {},
   "source": [
    "Calculating the Paramenters: "
   ]
  },
  {
   "cell_type": "markdown",
   "metadata": {},
   "source": [
    "Parameters are 1)the number of frames an object is visible for 2) time duration an object is visible for. It is found according to the following steps:\n",
    "\n",
    "\n",
    "   1) Read the video file using OpenCV \n",
    "   \n",
    "   2) Note the frame and the time stamp when the object is detected for the first time\n",
    "   \n",
    "   3) Note the frame and the time stamp when the object disappears for the first time\n",
    "   \n",
    "   4) Caluclate the difference between them to obtain both the paramenters"
   ]
  },
  {
   "cell_type": "code",
   "execution_count": 239,
   "metadata": {
    "scrolled": true
   },
   "outputs": [],
   "source": [
    "def find_para(video):\n",
    "    \n",
    "    cap = cv2.VideoCapture('C:/Users/Sumanth_47/Jupyter/sampleo/jog_walk/'+video)\n",
    "    body_cascade=cv2.CascadeClassifier('sampleo/cascadG.xml')\n",
    "\n",
    "    frame_counter = 0\n",
    "    start_frame=0\n",
    "    end_frame=0\n",
    "    count=0\n",
    "    start_time=0\n",
    "    end_time=0\n",
    "\n",
    "\n",
    "    while(cap.isOpened()):\n",
    "        frame_counter=frame_counter+1\n",
    "        ret, frame = cap.read()\n",
    "\n",
    "        gray = cv2.cvtColor(frame, cv2.COLOR_BGR2RGB)\n",
    "        gray = cv2.resize(gray, (700, 500))\n",
    "    \n",
    "   \n",
    "    \n",
    "        bodies=body_cascade.detectMultiScale(gray,1.3,5)\n",
    "        for(x,y,w,h) in bodies:\n",
    "        \n",
    "            cv2.rectangle(gray,(x,y),(x+w,y+h),(255,0,0),2)\n",
    "        \n",
    "            if(x>=200 and start_frame==0 and count<2):\n",
    "            \n",
    "                start_frame = frame_counter\n",
    "                start_time=time.time()\n",
    "                count=count+1\n",
    "            #print('sf=',start_frame,'|count:',count)\n",
    "        \n",
    "            elif(x<200 and count < 2 and start_frame!= 0):\n",
    "                end_frame= frame_counter\n",
    "                end_time=time.time()\n",
    "                count=count+1 \n",
    "    \n",
    "    \n",
    "    \n",
    "    #cv2.imshow('gray',gray)\n",
    "    \n",
    "    \n",
    "    \n",
    "        if frame_counter == cap.get(cv2.CAP_PROP_FRAME_COUNT):\n",
    "             break\n",
    "    \n",
    "        if cv2.waitKey(1) & 0xFF == ord('q'):\n",
    "            break\n",
    "    \n",
    "\n",
    "    cap.release()\n",
    "    cv2.destroyAllWindows()\n",
    "\n",
    "    total_frame=end_frame-start_frame\n",
    "    total_time=end_time-start_time\n",
    "\n",
    "    return total_frame,total_time\n"
   ]
  },
  {
   "cell_type": "markdown",
   "metadata": {},
   "source": [
    "Create the Training data"
   ]
  },
  {
   "cell_type": "code",
   "execution_count": 240,
   "metadata": {
    "scrolled": true
   },
   "outputs": [
    {
     "name": "stderr",
     "output_type": "stream",
     "text": [
      "100%|█████████████████████████████████████████████████████████████████████████████████████████████████████████████████████████████████████████████████████████████████████████████████████████████████████████████████████████████████████████| 52/52 [03:03<00:00,  3.54s/it]\n",
      "100%|█████████████████████████████████████████████████████████████████████████████████████████████████████████████████████████████████████████████████████████████████████████████████████████████████████████████████████████████████████████| 52/52 [04:43<00:00,  5.46s/it]\n"
     ]
    }
   ],
   "source": [
    "t_d=create_train_data()"
   ]
  },
  {
   "cell_type": "markdown",
   "metadata": {},
   "source": [
    "Convert the Numpy array to Data frame to Logisitic Regression (Classifier) from SKlearn and find the class of new video input "
   ]
  },
  {
   "cell_type": "code",
   "execution_count": 248,
   "metadata": {},
   "outputs": [],
   "source": [
    "df = pd.DataFrame(t_d)\n",
    "\n",
    "dic={'jog':1, 'walk':0}\n",
    "\n",
    "df[1]=df[1].apply(lambda x:dic[x])\n"
   ]
  },
  {
   "cell_type": "markdown",
   "metadata": {},
   "source": [
    "Splitting Features and Labels"
   ]
  },
  {
   "cell_type": "code",
   "execution_count": 249,
   "metadata": {
    "scrolled": true
   },
   "outputs": [],
   "source": [
    "Y=df[1]\n",
    "X=df[[2,3]]"
   ]
  },
  {
   "cell_type": "markdown",
   "metadata": {},
   "source": [
    "Initializing Logistic Regression Classifier and fitting it"
   ]
  },
  {
   "cell_type": "code",
   "execution_count": 250,
   "metadata": {},
   "outputs": [
    {
     "data": {
      "text/plain": [
       "LogisticRegression(C=1.0, class_weight=None, dual=False, fit_intercept=True,\n",
       "          intercept_scaling=1, max_iter=100, multi_class='ovr', n_jobs=1,\n",
       "          penalty='l2', random_state=None, solver='liblinear', tol=0.0001,\n",
       "          verbose=0, warm_start=False)"
      ]
     },
     "execution_count": 250,
     "metadata": {},
     "output_type": "execute_result"
    }
   ],
   "source": [
    "logreg = linear_model.LogisticRegression()\n",
    "logreg.fit(X,Y)\n"
   ]
  },
  {
   "cell_type": "code",
   "execution_count": 251,
   "metadata": {},
   "outputs": [
    {
     "data": {
      "text/plain": [
       "array([1, 1, 1, 0, 1, 0, 0, 1, 1, 0, 1, 0, 1, 1, 1, 1, 1, 1, 1, 0, 1, 1,\n",
       "       1, 1, 0, 0, 1, 1, 1, 1, 1, 0, 1, 0, 1, 0, 1, 1, 1, 0, 1, 1, 1, 1,\n",
       "       0, 1, 1, 1, 1, 1, 1, 1, 0, 1, 1, 1, 1, 0, 1, 1, 1, 0, 0, 0, 1, 1,\n",
       "       1, 1, 1, 1, 1, 1, 1, 0, 1, 1, 1, 1, 1, 1, 1, 0, 1, 0, 1, 1, 1, 0,\n",
       "       1, 0, 1, 1, 1, 0, 1, 0, 1, 0, 1, 1, 1, 0, 1, 0], dtype=int64)"
      ]
     },
     "execution_count": 251,
     "metadata": {},
     "output_type": "execute_result"
    }
   ],
   "source": [
    "logreg.predict(X)"
   ]
  }
 ],
 "metadata": {
  "kernelspec": {
   "display_name": "Python 3",
   "language": "python",
   "name": "python3"
  },
  "language_info": {
   "codemirror_mode": {
    "name": "ipython",
    "version": 3
   },
   "file_extension": ".py",
   "mimetype": "text/x-python",
   "name": "python",
   "nbconvert_exporter": "python",
   "pygments_lexer": "ipython3",
   "version": "3.6.4"
  }
 },
 "nbformat": 4,
 "nbformat_minor": 2
}
